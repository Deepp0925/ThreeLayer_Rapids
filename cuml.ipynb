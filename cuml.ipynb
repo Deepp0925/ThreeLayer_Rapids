{
 "cells": [
  {
   "cell_type": "code",
   "execution_count": null,
   "metadata": {},
   "outputs": [],
   "source": []
  }
 ],
 "metadata": {
  "kernelspec": {
   "display_name": "Python 3.9.6 ('env': venv)",
   "language": "python",
   "name": "python3"
  },
  "language_info": {
   "name": "python",
   "version": "3.9.6"
  },
  "orig_nbformat": 4,
  "vscode": {
   "interpreter": {
    "hash": "fef6cad4f5f955b3dc645fdd80b52805b93611a098a68e029ae1a24c5bc7757e"
   }
  }
 },
 "nbformat": 4,
 "nbformat_minor": 2
}
